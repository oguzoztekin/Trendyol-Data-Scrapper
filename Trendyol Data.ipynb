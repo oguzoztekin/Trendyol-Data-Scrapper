{
 "cells": [
  {
   "cell_type": "code",
   "execution_count": 1,
   "metadata": {},
   "outputs": [],
   "source": [
    "import requests\n",
    "from bs4 import BeautifulSoup"
   ]
  },
  {
   "cell_type": "code",
   "execution_count": null,
   "metadata": {},
   "outputs": [],
   "source": [
    "## Required Libraries\n",
    "import pandas as pd\n",
    "import selenium\n",
    "import glob\n",
    "import os\n",
    "import shutil\n",
    "import warnings\n",
    "import time\n",
    "warnings.filterwarnings('ignore')\n",
    "from selenium import webdriver\n",
    "from selenium.webdriver.firefox.options import Options\n",
    "from selenium.webdriver.firefox.service import Service\n",
    "from selenium.webdriver.common.by import By\n",
    "from selenium.webdriver.support import expected_conditions as EC\n",
    "from selenium.webdriver.support.ui import WebDriverWait\n",
    "import requests\n",
    "from bs4 import BeautifulSoup\n",
    "## Required Code due to errors occured\n",
    "from selenium.common.exceptions import UnexpectedAlertPresentException\n",
    "\n",
    "download_dir = r\"C:\\Users\\oguzo\\Desktop\\Selenium\\Tüik\" \n",
    "\n",
    "# Set up options for Firefox\n",
    "options = Options()\n",
    "options.binary_location = r\"C:\\Program Files\\Mozilla Firefox\\firefox.exe\" \n",
    "options.set_preference(\"browser.download.folderList\", 2)\n",
    "options.set_preference(\"browser.download.manager.showWhenStarting\", False)\n",
    "options.set_preference(\"browser.download.dir\", download_dir)\n",
    "options.set_preference(\"browser.helperApps.neverAsk.saveToDisk\", \"application/vnd.ms-excel\")\n",
    "\n",
    "# Set up the service for geckodriver\n",
    "service = Service(executable_path=r\"C:\\Users\\oguzo\\Desktop\\Selenium\\geckodriver.exe\")\n",
    "\n",
    "# Initialize the WebDriver\n",
    "browser = webdriver.Firefox(service=service, options=options)\n",
    "\n",
    "# Open the website\n",
    "browser.get('https://www.tuik.gov.tr/Kurumsal/Veri_Takvimi')\n",
    "\n",
    "\n",
    "WebDriverWait(browser, 20).until(EC.element_to_be_clickable((By.XPATH, f\"/html/body/div/div/div[1]/div[2]/div[2]/div[2]/button\"))).click()\n",
    "\n",
    "WebDriverWait(browser, 20).until(EC.element_to_be_clickable((By.XPATH, f\"/html/body/div/div/div[1]/div[2]/div[2]/div[2]/ul/li[1]/a\"))).click()\n",
    "\n",
    "elements = browser.find_elements(By.XPATH, \"/html/body/div/div/div[2]/div/div/div[2]/div[2]/div/a/div/div[2]/p\")\n",
    "\n",
    "isimler = [element.get_property(\"innerHTML\") for element in elements]\n",
    "\n",
    "browser.quit()\n"
   ]
  },
  {
   "cell_type": "code",
   "execution_count": null,
   "metadata": {},
   "outputs": [],
   "source": [
    "url = 'https://www.trendyol.com/nike/air-force-1-low-valentine-s-day-2023-p-838721121?boutiqueId=61&merchantId=763411'\n",
    "sayfa = requests.get(url)\n",
    "html_sayfa = BeautifulSoup(page)\n",
    "\n",
    "#while True:\n",
    "url = \"https://www.trendyol.com/nike/academy-team-s-futbol-spor-cantasi-cu8097-010-p-101456942\"\n",
    "sayfa = requests.get(url)\n",
    "html_sayfa = BeautifulSoup(sayfa.content,\"html.parser\")\n",
    "isim = html_sayfa.find(\"h1\",class_=\"pr-new-br\").getText()\n",
    "print(isim)\n",
    "fiyat = html_sayfa.find(\"span\",class_=\"prc-dsc\").getText()\n",
    "print(fiyat)\n",
    "#Telegram\n",
    "#import time\n",
    "#api = \"https://api.telegram.org/bot-ID-/SendMessage\"\n",
    "#mesaj = isim + \"\\n\" + fiyat\n",
    "#requests.post(url=api,data={\"chat_id\":\"1909392259\",\"text\":mesaj}).json()\n",
    "#time.sleep(5)"
   ]
  },
  {
   "cell_type": "code",
   "execution_count": 9,
   "metadata": {},
   "outputs": [],
   "source": [
    "url = \"https://www.trendyol.com/nike/academy-team-s-futbol-spor-cantasi-cu8097-010-p-101456942\"\n",
    "sayfa = requests.get(url)\n",
    "html_sayfa = BeautifulSoup(sayfa.content,\"html.parser\")\n",
    "isim = html_sayfa.find(\"h1\",class_=\"pr-new-br\").getText()\n",
    "fiyat = html_sayfa.find(\"span\",class_=\"prc-dsc\").getText()\n",
    "yildiz = html_sayfa.find(\"span\",class_=\"prc-dsc\").getText()\n",
    "degerlendirme = html_sayfa.find(\"span\",class_=\"prc-dsc\").getText()\n",
    "soru_cevap = html_sayfa.find(\"span\",class_=\"prc-dsc\").getText()\n",
    "goruntulenme = html_sayfa.find(\"span\",class_=\"prc-dsc\").getText()\n",
    "favlama = html_sayfa.find(\"span\",class_=\"prc-dsc\").getText()\n",
    "son_urun = html_sayfa.find(\"span\",class_=\"prc-dsc\").getText()\n",
    "taksit = html_sayfa.find(\"span\",class_=\"prc-dsc\").getText()\n",
    "beden = html_sayfa.find(\"span\",class_=\"prc-dsc\").getText()\n",
    "tahmini_kargo = html_sayfa.find(\"span\",class_=\"prc-dsc\").getText()\n",
    "kupon = html_sayfa.find(\"p\",class_=\"coupon-discount\").getText()"
   ]
  },
  {
   "cell_type": "code",
   "execution_count": 10,
   "metadata": {},
   "outputs": [
    {
     "name": "stdout",
     "output_type": "stream",
     "text": [
      "Nike Nk Acdmy Team S Duff Spor Çanta 1.148 TL\n"
     ]
    }
   ],
   "source": [
    "print(isim, fiyat)"
   ]
  }
 ],
 "metadata": {
  "kernelspec": {
   "display_name": "Python 3",
   "language": "python",
   "name": "python3"
  },
  "language_info": {
   "codemirror_mode": {
    "name": "ipython",
    "version": 3
   },
   "file_extension": ".py",
   "mimetype": "text/x-python",
   "name": "python",
   "nbconvert_exporter": "python",
   "pygments_lexer": "ipython3",
   "version": "3.11.9"
  }
 },
 "nbformat": 4,
 "nbformat_minor": 2
}
