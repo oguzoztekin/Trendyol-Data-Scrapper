{
 "cells": [
  {
   "cell_type": "code",
   "execution_count": 1,
   "metadata": {},
   "outputs": [],
   "source": [
    "import requests\n",
    "from bs4 import BeautifulSoup"
   ]
  },
  {
   "cell_type": "code",
   "execution_count": null,
   "metadata": {},
   "outputs": [],
   "source": [
    "url = 'https://www.trendyol.com/nike/air-force-1-low-valentine-s-day-2023-p-838721121?boutiqueId=61&merchantId=763411'\n",
    "sayfa = requests.get(url)\n",
    "html_sayfa = BeautifulSoup(page)\n",
    "\n",
    "#while True:\n",
    "url = \"https://www.trendyol.com/nike/academy-team-s-futbol-spor-cantasi-cu8097-010-p-101456942\"\n",
    "sayfa = requests.get(url)\n",
    "html_sayfa = BeautifulSoup(sayfa.content,\"html.parser\")\n",
    "isim = html_sayfa.find(\"h1\",class_=\"pr-new-br\").getText()\n",
    "print(isim)\n",
    "fiyat = html_sayfa.find(\"span\",class_=\"prc-dsc\").getText()\n",
    "print(fiyat)\n",
    "#Telegram\n",
    "#import time\n",
    "#api = \"https://api.telegram.org/bot-ID-/SendMessage\"\n",
    "#mesaj = isim + \"\\n\" + fiyat\n",
    "#requests.post(url=api,data={\"chat_id\":\"1909392259\",\"text\":mesaj}).json()\n",
    "#time.sleep(5)"
   ]
  },
  {
   "cell_type": "code",
   "execution_count": 12,
   "metadata": {},
   "outputs": [
    {
     "ename": "AttributeError",
     "evalue": "'NoneType' object has no attribute 'getText'",
     "output_type": "error",
     "traceback": [
      "\u001b[1;31m---------------------------------------------------------------------------\u001b[0m",
      "\u001b[1;31mAttributeError\u001b[0m                            Traceback (most recent call last)",
      "Cell \u001b[1;32mIn[12], line 1\u001b[0m\n\u001b[1;32m----> 1\u001b[0m kupon \u001b[38;5;241m=\u001b[39m \u001b[43mhtml_sayfa\u001b[49m\u001b[38;5;241;43m.\u001b[39;49m\u001b[43mfind\u001b[49m\u001b[43m(\u001b[49m\u001b[38;5;124;43m\"\u001b[39;49m\u001b[38;5;124;43mdiv\u001b[39;49m\u001b[38;5;124;43m\"\u001b[39;49m\u001b[43m,\u001b[49m\u001b[43mclass_\u001b[49m\u001b[38;5;241;43m=\u001b[39;49m\u001b[38;5;124;43m\"\u001b[39;49m\u001b[38;5;124;43mcoupon-discount\u001b[39;49m\u001b[38;5;124;43m\"\u001b[39;49m\u001b[43m)\u001b[49m\u001b[38;5;241;43m.\u001b[39;49m\u001b[43mgetText\u001b[49m()\n",
      "\u001b[1;31mAttributeError\u001b[0m: 'NoneType' object has no attribute 'getText'"
     ]
    }
   ],
   "source": []
  },
  {
   "cell_type": "code",
   "execution_count": 9,
   "metadata": {},
   "outputs": [],
   "source": [
    "url = \"https://www.trendyol.com/nike/academy-team-s-futbol-spor-cantasi-cu8097-010-p-101456942\"\n",
    "sayfa = requests.get(url)\n",
    "html_sayfa = BeautifulSoup(sayfa.content,\"html.parser\")\n",
    "isim = html_sayfa.find(\"h1\",class_=\"pr-new-br\").getText()\n",
    "fiyat = html_sayfa.find(\"span\",class_=\"prc-dsc\").getText()\n",
    "yildiz = html_sayfa.find(\"span\",class_=\"prc-dsc\").getText()\n",
    "degerlendirme = html_sayfa.find(\"span\",class_=\"prc-dsc\").getText()\n",
    "soru_cevap = html_sayfa.find(\"span\",class_=\"prc-dsc\").getText()\n",
    "goruntulenme = html_sayfa.find(\"span\",class_=\"prc-dsc\").getText()\n",
    "favlama = html_sayfa.find(\"span\",class_=\"prc-dsc\").getText()\n",
    "son_urun = html_sayfa.find(\"span\",class_=\"prc-dsc\").getText()\n",
    "taksit = html_sayfa.find(\"span\",class_=\"prc-dsc\").getText()\n",
    "beden = html_sayfa.find(\"span\",class_=\"prc-dsc\").getText()\n",
    "tahmini_kargo = html_sayfa.find(\"span\",class_=\"prc-dsc\").getText()\n",
    "kupon = html_sayfa.find(\"p\",class_=\"coupon-discount\").getText()"
   ]
  },
  {
   "cell_type": "code",
   "execution_count": 10,
   "metadata": {},
   "outputs": [
    {
     "name": "stdout",
     "output_type": "stream",
     "text": [
      "Nike Nk Acdmy Team S Duff Spor Çanta 1.148 TL\n"
     ]
    }
   ],
   "source": [
    "print(isim, fiyat)"
   ]
  }
 ],
 "metadata": {
  "kernelspec": {
   "display_name": "Python 3",
   "language": "python",
   "name": "python3"
  },
  "language_info": {
   "codemirror_mode": {
    "name": "ipython",
    "version": 3
   },
   "file_extension": ".py",
   "mimetype": "text/x-python",
   "name": "python",
   "nbconvert_exporter": "python",
   "pygments_lexer": "ipython3",
   "version": "3.11.9"
  }
 },
 "nbformat": 4,
 "nbformat_minor": 2
}
